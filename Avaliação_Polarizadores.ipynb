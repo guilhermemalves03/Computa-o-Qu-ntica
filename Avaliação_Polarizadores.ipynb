{
  "nbformat": 4,
  "nbformat_minor": 0,
  "metadata": {
    "colab": {
      "provenance": [],
      "toc_visible": true
    },
    "kernelspec": {
      "name": "python3",
      "display_name": "Python 3"
    },
    "language_info": {
      "name": "python"
    }
  },
  "cells": [
    {
      "cell_type": "markdown",
      "source": [
        "# Experiência de polarizadores\n",
        "\n",
        "Neste exercício, vamos simular a experiência de passar um fotão por vários polarizadores não-alinhados.\n",
        "\n",
        "Apesar de não termos um laboratório para simular um fotão de cada vez, podemos tentar fazê-lo com um computador quântico.\n",
        "\n",
        "Começamos por instalar e importar as bibliotecas necessárias."
      ],
      "metadata": {
        "id": "k_KI5gFHgDuD"
      }
    },
    {
      "cell_type": "code",
      "execution_count": null,
      "metadata": {
        "id": "gNGSllUI_Q-U"
      },
      "outputs": [],
      "source": [
        "%%capture\n",
        "%pip install qiskit"
      ]
    },
    {
      "cell_type": "code",
      "source": [
        "import numpy as np\n",
        "from matplotlib import pyplot as plt\n",
        "\n",
        "from qiskit import QuantumCircuit\n",
        "from qiskit.primitives import StatevectorSampler\n",
        "sampler = StatevectorSampler()"
      ],
      "metadata": {
        "id": "1NtEISpIFDFL"
      },
      "execution_count": null,
      "outputs": []
    },
    {
      "cell_type": "markdown",
      "source": [
        "## Experiência dos três polarizadores\n",
        "\n",
        "Começamos por considerar uma experiência de três polarizadores:\n",
        "  - Polarizador 1: eixo de polarização horizontal\n",
        "  - Polarizador 2: eixo de polarização a $45^\\circ$ com a horizontal\n",
        "  - Polarizador 3: eixo de polarização a $90^\\circ$ com a horizontal (vertical)"
      ],
      "metadata": {
        "id": "donZuhJfJpji"
      }
    },
    {
      "cell_type": "markdown",
      "source": [
        "Vamos assumir que $|0\\rangle = |H\\rangle$ e $|1\\rangle = |V\\rangle$.\n",
        "\n",
        "Como a luz chega ao primeiro polarizador sem polarização definida, podemos assumir que o primeiro polarizador está apenas a preparar o estado $|H\\rangle$.\n",
        "\n",
        "Assim, não precisamos de simular o primeiro polarizador.\n",
        "Vamos assumir que passam um milhão de fotões pelo primeiro.\n",
        "\n"
      ],
      "metadata": {
        "id": "RXRFrteGJNcX"
      }
    },
    {
      "cell_type": "code",
      "source": [
        "# Primeiro polarizador: prepara estado |H>\n",
        "fotoes1 = 10_000"
      ],
      "metadata": {
        "id": "GUMLVWE6q0yH"
      },
      "execution_count": null,
      "outputs": []
    },
    {
      "cell_type": "markdown",
      "source": [
        "\n",
        "\n",
        "No entanto, os outros dois polarizadores funcionam como uma medida numa base $\\theta$, isto é, correspondem a medir na base\n",
        "\\begin{align}\n",
        "|H_\\theta\\rangle &= \\phantom{-} \\cos\\theta \\, |H\\rangle + \\sin\\theta \\, |V\\rangle \\\\\n",
        "|V_\\theta\\rangle &= -\\sin\\theta \\, |H\\rangle + \\cos\\theta \\, |V\\rangle.\n",
        "\\end{align}\n",
        "\n",
        "Habitualmente, os computadores quânticos medem na base computacional apenas, o que quer dizer que temos de aplicar uma unitária para poder medir nesta bases.\n",
        "\n",
        "Então, que unitária devemos escolher? A resposta é simples: é a operação inversa à operação $U$ que prepara os estados $|H_\\theta\\rangle, |V_\\theta\\rangle.$\n",
        "\n",
        "Neste caso, temos\n",
        "$$\n",
        "U(\\theta)\n",
        "=\n",
        "\\begin{pmatrix}\n",
        "\\cos\\theta & -\\sin\\theta \\\\\n",
        "\\sin\\theta & \\phantom{-}\\cos\\theta\n",
        "\\end{pmatrix}.\n",
        "$$\n",
        "\n",
        "Felizmente, esta operação existe já por defeito no Qiskit, sob um outro nome.\n",
        "De facto, existe a operação\n",
        "$$\n",
        "R_y(\\theta)\n",
        "=\n",
        "\\begin{pmatrix}\n",
        "\\cos(\\theta/2) & -\\sin(\\theta/2) \\\\\n",
        "\\sin(\\theta/2) & \\phantom{-}\\cos(\\theta/2),\n",
        "\\end{pmatrix}\n",
        "$$\n",
        "pelo que, para medir na base $\\theta$, devemos aplicar a operação\n",
        "$$\n",
        "U^\\dagger(\\theta)\n",
        "=\n",
        "U(-\\theta)\n",
        "=\n",
        "R_y(-2\\theta).\n",
        "$$\n",
        "\n",
        "Assim, quando medirmos $|0\\rangle$ no final do circuito, sabemos que estamos na verdade a medir $|H_\\theta\\rangle$, e, se medirmos $|1\\rangle$, estamos na verdade a medir $|V_\\theta\\rangle$.\n",
        "\n",
        "Desenhamos então o circuito que corresponde aos fotões a chegar ao segundo polarizador."
      ],
      "metadata": {
        "id": "s-QkSfrtqyxF"
      }
    },
    {
      "cell_type": "code",
      "source": [
        "# Segundo polarizador: a 45 graus do primeiro\n",
        "\n",
        "qc2 = QuantumCircuit(1)\n",
        "qc2.ry(-2 * np.radians(45), 0)  # Medição a 45 graus\n",
        "qc2.measure_all()\n",
        "qc2.draw()"
      ],
      "metadata": {
        "colab": {
          "base_uri": "https://localhost:8080/",
          "height": 94
        },
        "id": "TrnHxSVZFSC2",
        "outputId": "7728ff10-1c57-4472-b502-e070ed4cb57d"
      },
      "execution_count": null,
      "outputs": [
        {
          "output_type": "execute_result",
          "data": {
            "text/plain": [
              "        ┌──────────┐ ░ ┌─┐\n",
              "     q: ┤ Ry(-π/2) ├─░─┤M├\n",
              "        └──────────┘ ░ └╥┘\n",
              "meas: 1/════════════════╩═\n",
              "                        0 "
            ],
            "text/html": [
              "<pre style=\"word-wrap: normal;white-space: pre;background: #fff0;line-height: 1.1;font-family: &quot;Courier New&quot;,Courier,monospace\">        ┌──────────┐ ░ ┌─┐\n",
              "     q: ┤ Ry(-π/2) ├─░─┤M├\n",
              "        └──────────┘ ░ └╥┘\n",
              "meas: 1/════════════════╩═\n",
              "                        0 </pre>"
            ]
          },
          "metadata": {},
          "execution_count": 30
        }
      ]
    },
    {
      "cell_type": "markdown",
      "source": [
        "Vamos simular 10 000 de fotões a passar do primeiro polarizador para o segundo."
      ],
      "metadata": {
        "id": "yw5YizVhJb_Y"
      }
    },
    {
      "cell_type": "markdown",
      "source": [
        "Quantos destes passam pelo segundo polarizador?\n",
        "Temos de correr a simulação"
      ],
      "metadata": {
        "id": "c-V8s-ULJeEL"
      }
    },
    {
      "cell_type": "code",
      "source": [
        "job = sampler.run([qc2], shots=fotoes1)\n",
        "result = job.result()[0]\n",
        "fotoes2 = result.data.meas.get_counts().get('0', 0)\n",
        "\n",
        "fotoes2"
      ],
      "metadata": {
        "colab": {
          "base_uri": "https://localhost:8080/"
        },
        "id": "YloolbaqGjGL",
        "outputId": "b78c3bdb-e460-4bd3-c80a-a2b2e12d8163"
      },
      "execution_count": null,
      "outputs": [
        {
          "output_type": "execute_result",
          "data": {
            "text/plain": [
              "4948"
            ]
          },
          "metadata": {},
          "execution_count": 31
        }
      ]
    },
    {
      "cell_type": "markdown",
      "source": [
        "Podemos agora simular o terceiro polarizador, fazendo passar apenas os fotões que sobreviveram ao segundo polarizador.\n",
        "É assim que simulamos uma medição _destrutiva_.\n",
        "\n",
        "No entanto, esta situação é diferente do primeiro circuito que escrevemos.\n",
        "\n",
        "Agora, temos:\n",
        "  - Um fotão a chegar com polarização linear no ângulo $\\theta$ com a horizontal\n",
        "  - Um polarizador num ângulo $\\theta'$ com a horizontal.\n",
        "\n",
        "Isto quer dizer que agora temos primeiro de preparar o estado certo, e só depois é que medimos na base que queremos (que será agora a $\\theta' = 90^\\circ$!)."
      ],
      "metadata": {
        "id": "mzOs6jVJJk96"
      }
    },
    {
      "cell_type": "code",
      "source": [
        "# Terceiro polarizador: a 90 graus do primeiro\n",
        "\n",
        "qc3 = QuantumCircuit(1)\n",
        "qc3.ry(2 * np.radians(45), 0)  # Preparar o fotão a 45 graus\n",
        "qc3.ry(-2 * np.radians(90), 0)  # Medir na base a 90 graus\n",
        "qc3.measure_all()\n",
        "qc3.draw()"
      ],
      "metadata": {
        "colab": {
          "base_uri": "https://localhost:8080/",
          "height": 94
        },
        "outputId": "b0c28d25-d5bb-4369-ad6b-12047709da45",
        "id": "elnajRp5pHkv"
      },
      "execution_count": null,
      "outputs": [
        {
          "output_type": "execute_result",
          "data": {
            "text/plain": [
              "        ┌─────────┐┌────────┐ ░ ┌─┐\n",
              "     q: ┤ Ry(π/2) ├┤ Ry(-π) ├─░─┤M├\n",
              "        └─────────┘└────────┘ ░ └╥┘\n",
              "meas: 1/═════════════════════════╩═\n",
              "                                 0 "
            ],
            "text/html": [
              "<pre style=\"word-wrap: normal;white-space: pre;background: #fff0;line-height: 1.1;font-family: &quot;Courier New&quot;,Courier,monospace\">        ┌─────────┐┌────────┐ ░ ┌─┐\n",
              "     q: ┤ Ry(π/2) ├┤ Ry(-π) ├─░─┤M├\n",
              "        └─────────┘└────────┘ ░ └╥┘\n",
              "meas: 1/═════════════════════════╩═\n",
              "                                 0 </pre>"
            ]
          },
          "metadata": {},
          "execution_count": 32
        }
      ]
    },
    {
      "cell_type": "code",
      "source": [
        "job = sampler.run([qc3], shots=fotoes2)\n",
        "result = job.result()[0]\n",
        "fotoes3 = result.data.meas.get_counts().get('0', 0)\n",
        "\n",
        "fotoes3"
      ],
      "metadata": {
        "colab": {
          "base_uri": "https://localhost:8080/"
        },
        "id": "S31jQemUFya3",
        "outputId": "b1848438-46bd-4fdc-cb32-7965740a78cd"
      },
      "execution_count": null,
      "outputs": [
        {
          "output_type": "execute_result",
          "data": {
            "text/plain": [
              "2459"
            ]
          },
          "metadata": {},
          "execution_count": 33
        }
      ]
    },
    {
      "cell_type": "markdown",
      "source": [
        "Isto quer dizer que esperamos que apenas aproximadamente 25\\% dos fotões passam intactos do primeiro para o último polarizador.\n"
      ],
      "metadata": {
        "id": "aODVr2MJpr89"
      }
    },
    {
      "cell_type": "markdown",
      "source": [
        "## (1) Dois polarizadores"
      ],
      "metadata": {
        "id": "FvR20IZZcjTU"
      }
    },
    {
      "cell_type": "markdown",
      "source": [
        "Neste problema, simulamos a situação em que um fotão horizontal passa por um polarizador vertical. Simulamos outra vez 1000000 de fotões."
      ],
      "metadata": {
        "id": "sIHAs7nCciXg"
      }
    },
    {
      "cell_type": "markdown",
      "source": [
        "1.a) Criação do circuito"
      ],
      "metadata": {
        "id": "f1j23lndrZ06"
      }
    },
    {
      "cell_type": "markdown",
      "source": [
        "1.b) Simulação"
      ],
      "metadata": {
        "id": "DZ-zDB9jcxaF"
      }
    },
    {
      "cell_type": "markdown",
      "source": [
        "1.c) Comentário"
      ],
      "metadata": {
        "id": "nM-PZ9CRrklG"
      }
    },
    {
      "cell_type": "markdown",
      "source": [
        "## (2) Quatro polarizadores"
      ],
      "metadata": {
        "id": "DrjuZSsbJFho"
      }
    },
    {
      "cell_type": "markdown",
      "source": [
        "Vamos agora repetir a análise, mas tendo quatro polarizadores, a $30^\\circ$ graus entre si.\n"
      ],
      "metadata": {
        "id": "jhnguV4iKM_3"
      }
    },
    {
      "cell_type": "markdown",
      "source": [
        "2.a) Criar e simular os circuitos"
      ],
      "metadata": {
        "id": "kbr5tXOdWMXs"
      }
    },
    {
      "cell_type": "markdown",
      "source": [
        "2.b) Comentário"
      ],
      "metadata": {
        "id": "iW6mmmSStVMj"
      }
    },
    {
      "cell_type": "markdown",
      "source": [
        "## (3) Caso geral de $n+1$ polarizadores (opcional)"
      ],
      "metadata": {
        "id": "PA8NE8NwLMOM"
      }
    },
    {
      "cell_type": "markdown",
      "source": [
        "3.a) Criar uma função em que um fotão é preparado com polarização linear $\\theta$ e depois é medido por um polarizador num ângulo $\\theta'$ com a horizontal."
      ],
      "metadata": {
        "id": "E093PRVPzVO2"
      }
    },
    {
      "cell_type": "code",
      "source": [
        "def qc_polarizador(theta, theta_):\n",
        "  pass"
      ],
      "metadata": {
        "id": "KJJvDwVEMPmW"
      },
      "execution_count": null,
      "outputs": []
    },
    {
      "cell_type": "markdown",
      "source": [
        "3.b) Criar uma função para uma experiência de $n+1$ polarizadores.\n",
        "\n",
        "(Lembre-se que apenas precisa de $n$ circuitos, pois o primeiro polarizador não é simulado.)"
      ],
      "metadata": {
        "id": "yq9k0iBSzltl"
      }
    },
    {
      "cell_type": "code",
      "source": [
        "def experiencia_polarizadores(n, nfotoes):\n",
        "  pass"
      ],
      "metadata": {
        "id": "M5KX31a8MZSZ"
      },
      "execution_count": null,
      "outputs": []
    },
    {
      "cell_type": "markdown",
      "source": [
        "3.c) Simular os casos $n=1,2,\\ldots, 10$"
      ],
      "metadata": {
        "id": "lwNqfQxEe3rf"
      }
    },
    {
      "cell_type": "markdown",
      "source": [
        "3.d) Gráfico de resultados"
      ],
      "metadata": {
        "id": "Na_w00XDe-zh"
      }
    },
    {
      "cell_type": "code",
      "source": [
        "# Mudar as listas xdata, ydata com a informação correta\n",
        "xdata = []\n",
        "ydata = []"
      ],
      "metadata": {
        "id": "X-ttjcLA0Ae4"
      },
      "execution_count": null,
      "outputs": []
    },
    {
      "cell_type": "code",
      "source": [
        "fig, ax = plt.subplots()\n",
        "\n",
        "# Plot das simulações\n",
        "plt.scatter(xdata, ydata, label='Simulação')\n",
        "\n",
        "ax.set_xlim([0, 90])\n",
        "ax.set_ylim([0, 1])\n",
        "ax.set_xlabel('Ângulo entre polarizadores / graus')\n",
        "ax.set_ylabel('Prob. de um fotão sobreviver')\n",
        "ax.legend()\n",
        "ax.grid()"
      ],
      "metadata": {
        "colab": {
          "base_uri": "https://localhost:8080/",
          "height": 457
        },
        "id": "PaNzI1xUOFmv",
        "outputId": "01fcc23f-183b-4ed5-a253-a4028dac344b"
      },
      "execution_count": null,
      "outputs": [
        {
          "output_type": "display_data",
          "data": {
            "text/plain": [
              "<Figure size 640x480 with 1 Axes>"
            ],
            "image/png": "[encoded data removed]"
          },
          "metadata": {}
        }
      ]
    },
    {
      "cell_type": "code",
      "source": [],
      "metadata": {
        "id": "tedK3YK7w7mm"
      },
      "execution_count": null,
      "outputs": []
    }
  ]
}